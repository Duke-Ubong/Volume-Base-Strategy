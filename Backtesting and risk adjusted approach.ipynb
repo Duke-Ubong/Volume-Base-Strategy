{
 "cells": [
  {
   "cell_type": "code",
   "execution_count": null,
   "id": "b215da16",
   "metadata": {},
   "outputs": [],
   "source": [
    "# STRATEGY BACKTEST\n",
    "# ATR IS IN USE HERE FOR TP AND SL FRACTIONING\n",
    "dfpl = df[:].copy()\n",
    "dfpl.reset_index(inplace=True)\n",
    "import pandas_ta as pta\n",
    "\n",
    "dfpl['ATR']=pta.atr(dfpl.High, dfpl.Low, dfpl.Close, length=3)\n",
    "#help(ta.atr)\n",
    "def SIGNAL():\n",
    "    return dfpl.TotalSignal"
   ]
  },
  {
   "cell_type": "code",
   "execution_count": null,
   "id": "ab97d014",
   "metadata": {},
   "outputs": [],
   "source": [
    "#### TEST 1\n",
    "from backtesting import Strategy\n",
    "from backtesting import Backtest\n",
    "\n",
    "class MyStrat(Strategy):\n",
    "    initsize = 0.5\n",
    "    mysize = initsize\n",
    "    def init(self):\n",
    "        super().init()\n",
    "        self.signal1 = self.I(SIGNAL)\n",
    "\n",
    "    def next(self):\n",
    "        super().next()\n",
    "        slatr = 0.7*self.data.ATR[-1]\n",
    "        TPSLRatio = 8\n",
    "\n",
    "        if self.signal1==2 and len(self.trades)==0:\n",
    "            sl1 = self.data.Close[-1] - slatr\n",
    "            tp1 = self.data.Close[-1] + slatr*TPSLRatio\n",
    "            self.buy(sl=sl1, tp=tp1, size=self.mysize)\n",
    "        \n",
    "        elif self.signal1==1 and len(self.trades)==0:         \n",
    "            sl1 = self.data.Close[-1] + slatr\n",
    "            tp1 = self.data.Close[-1] - slatr*TPSLRatio\n",
    "            self.sell(sl=sl1, tp=tp1, size=self.mysize)\n",
    "\n",
    "bt = Backtest(dfpl, MyStrat, cash=10000, margin=1/5, commission=.00)\n",
    "stat = bt.run()\n",
    "stat\n",
    "\n",
    "bt.plot(plot_drawdown=True,plot_volume=False,plot_pl=False,)"
   ]
  },
  {
   "cell_type": "code",
   "execution_count": null,
   "id": "b93a5eae",
   "metadata": {},
   "outputs": [],
   "source": [
    "#### TEST 2 *(LESS AGRESSIVE AND RISK CONCERNED APPROACH)\n",
    "\n",
    "from backtesting import Strategy\n",
    "from backtesting import Backtest\n",
    "\n",
    "class MyStrat(Strategy):\n",
    "    initsize = 0.30\n",
    "    mysize = initsize\n",
    "    def init(self):\n",
    "        super().init()\n",
    "        self.signal1 = self.I(SIGNAL)\n",
    "\n",
    "    def next(self):\n",
    "        super().next()\n",
    "        slatr = 0.7*self.data.ATR[-1]\n",
    "        TPSLRatio = 10\n",
    "\n",
    "        if self.signal1==2 and len(self.trades)==0:\n",
    "            sl1 = self.data.Close[-1] - slatr\n",
    "            tp1 = self.data.Close[-1] + slatr*TPSLRatio\n",
    "            self.buy(sl=sl1, tp=tp1, size=self.mysize)\n",
    "        \n",
    "        elif self.signal1==1 and len(self.trades)==0:         \n",
    "            sl1 = self.data.Close[-1] + slatr\n",
    "            tp1 = self.data.Close[-1] - slatr*TPSLRatio\n",
    "            self.sell(sl=sl1, tp=tp1, size=self.mysize)\n",
    "\n",
    "bt = Backtest(dfpl, MyStrat, cash=10000, margin=1/5, commission=.00)\n",
    "stat = bt.run()\n",
    "stat\n",
    "\n",
    "bt.plot(plot_drawdown=True,plot_volume=False,plot_pl=False,)"
   ]
  }
 ],
 "metadata": {
  "kernelspec": {
   "display_name": "Python 3 (ipykernel)",
   "language": "python",
   "name": "python3"
  },
  "language_info": {
   "codemirror_mode": {
    "name": "ipython",
    "version": 3
   },
   "file_extension": ".py",
   "mimetype": "text/x-python",
   "name": "python",
   "nbconvert_exporter": "python",
   "pygments_lexer": "ipython3",
   "version": "3.9.13"
  }
 },
 "nbformat": 4,
 "nbformat_minor": 5
}
