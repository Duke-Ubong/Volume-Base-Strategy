{
 "cells": [
  {
   "cell_type": "code",
   "execution_count": null,
   "id": "a3ef6a03",
   "metadata": {},
   "outputs": [],
   "source": [
    "# SIGNAL VISUALIZATION\n",
    "import numpy as np\n",
    "def pointposbreak(x):\n",
    "    if x['TotalSignal']==1:\n",
    "        return x['High']+1e-3\n",
    "    elif x['TotalSignal']==2:\n",
    "        return x['Low']-1e-3\n",
    "    else:\n",
    "        return np.nan\n",
    "\n",
    "df['pointposbreak'] = df.apply(lambda row: pointposbreak(row), axis=1)\n",
    "\n",
    "# ONLY A FRACTION OF THE SIGNALS IS VISUALIZED DUE TO MEMORY\n",
    "import plotly.graph_objects as go\n",
    "from plotly.subplots import make_subplots\n",
    "from datetime import datetime\n",
    "\n",
    "dfpl = df[10000:60000].copy()\n",
    "dfpl.reset_index(inplace=True)\n",
    "fig = go.Figure(data=[go.Candlestick(x=dfpl.index,\n",
    "                open=dfpl['Open'],\n",
    "                high=dfpl['High'],\n",
    "                low=dfpl['Low'],\n",
    "                close=dfpl['Close']),\n",
    "                go.Scatter(x=dfpl.index, y=dfpl.EMA, line=dict(color='orange', width=1), name=\"EMA\"),\n",
    "                go.Scatter(x=dfpl.index, y=dfpl.VWAP, line=dict(color='blue', width=1), name=\"VWAP\")])\n",
    "\n",
    "fig.add_scatter(x=dfpl.index, y=dfpl['pointposbreak'], mode=\"markers\",\n",
    "                marker=dict(size=2, color=\"MediumPurple\"),\n",
    "                name=\"Signal\")\n",
    "fig.show()"
   ]
  }
 ],
 "metadata": {
  "kernelspec": {
   "display_name": "Python 3 (ipykernel)",
   "language": "python",
   "name": "python3"
  },
  "language_info": {
   "codemirror_mode": {
    "name": "ipython",
    "version": 3
   },
   "file_extension": ".py",
   "mimetype": "text/x-python",
   "name": "python",
   "nbconvert_exporter": "python",
   "pygments_lexer": "ipython3",
   "version": "3.9.13"
  }
 },
 "nbformat": 4,
 "nbformat_minor": 5
}
